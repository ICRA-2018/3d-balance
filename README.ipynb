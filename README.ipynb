{
 "cells": [
  {
   "cell_type": "markdown",
   "metadata": {},
   "source": [
    "# 3D Balance using both ZMP and COM height variations\n",
    "\n",
    "Source code for https://hal.archives-ouvertes.fr/hal-01590509/document\n",
    "\n",
    "## Installation\n",
    "\n",
    "The following instructions were verified on various machines running Ubuntu\n",
    "14.04 and 16.04.\n",
    "\n",
    "- Install OpenRAVE: here are [instructions for Ubuntu 14.04](https://scaron.info/teaching/installing-openrave-on-ubuntu-14.04.html) as well as [for Ubuntu 16.04](https://scaron.info/teaching/installing-openrave-on-ubuntu-16.04.html)\n",
    "- Install Python and related dependencies: ``sudo apt-get install cython python python-dev python-pip python-scipy``\n",
    "- Install Python packages: ``sudo pip install pycddlib quadprog``\n",
    "- Install [CasADi](http://casadi.org). Pre-compiled binaries are available, but I recommend you [build it from source](https://github.com/casadi/casadi/wiki/InstallationLinux). When installing IPOPT, make sure to install the MA27 linear solver (``ThirdParty/HSL`` folder).\n",
    "\n",
    "You can then clone the repository and its submodule via:"
   ]
  },
  {
   "cell_type": "code",
   "execution_count": null,
   "metadata": {},
   "outputs": [],
   "source": [
    "%%bash\n",
    "git clone --recursive https://github.com/stephane-caron/3d-balance.git"
   ]
  },
  {
   "cell_type": "markdown",
   "metadata": {},
   "source": [
    "## Usage\n",
    "\n",
    "Run the main script `stepping.py`, then call one of the two main functions:\n",
    "\n",
    "- `edit()` to switch to editor mode (moving the contact around, changing initial velocity, etc.)\n",
    "- `go()` to execute the motion from the current state.\n",
    "\n",
    "You can also checkout the benchmarking script in the `benchmark/` sub-folder.\n",
    "It was used to measure computation times reported in Section V of the paper.\n",
    "\n",
    "Due to copyright, we cannot release the COLLADA model ``HRP4R.dae`` used to\n",
    "produce the accompanying video and paper illustrations. It is replaced by\n",
    "[JVRC-1](https://github.com/stephane-caron/openrave_models/tree/master/JVRC-1),\n",
    "which has the same kinematic chain."
   ]
  }
 ],

 "metadata": {
  "kernelspec": {
   "display_name": "Bash",
   "language": "bash",
   "name": "bash"
  },
  "language_info": {
   "codemirror_mode": "shell",
   "file_extension": ".sh",
   "mimetype": "text/x-sh",
   "name": "bash"
  }
 },
 "nbformat": 4,
 "nbformat_minor": 2
}
